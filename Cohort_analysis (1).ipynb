{
 "cells": [
  {
   "cell_type": "markdown",
   "id": "7ffb21cc-31b3-4354-9692-dc65823d07ec",
   "metadata": {},
   "source": [
    "## pip install numpy pandas seaborn matplotlib"
   ]
  },
  {
   "cell_type": "code",
   "execution_count": 1,
   "id": "d7c745c3-6e82-460a-846d-7ec1438d32bb",
   "metadata": {},
   "outputs": [],
   "source": [
    "import numpy as np\n",
    "import pandas as pd\n",
    "import matplotlib.pyplot as plt\n",
    "import seaborn as sns"
   ]
  },
  {
   "cell_type": "code",
   "execution_count": 7,
   "id": "965c856a-4d39-4f9e-8804-d2fe2ef9f691",
   "metadata": {},
   "outputs": [],
   "source": [
    "# Load Dataset\n",
    "df = pd.read_csv('ShopSphere_Dataset.csv', parse_dates=['InvoiceDate'])"
   ]
  },
  {
   "cell_type": "code",
   "execution_count": 17,
   "id": "a0167dbe-3d11-4651-bcd4-80b8fc525758",
   "metadata": {},
   "outputs": [
    {
     "data": {
      "text/html": [
       "<div>\n",
       "<style scoped>\n",
       "    .dataframe tbody tr th:only-of-type {\n",
       "        vertical-align: middle;\n",
       "    }\n",
       "\n",
       "    .dataframe tbody tr th {\n",
       "        vertical-align: top;\n",
       "    }\n",
       "\n",
       "    .dataframe thead th {\n",
       "        text-align: right;\n",
       "    }\n",
       "</style>\n",
       "<table border=\"1\" class=\"dataframe\">\n",
       "  <thead>\n",
       "    <tr style=\"text-align: right;\">\n",
       "      <th></th>\n",
       "      <th>InvoiceNo</th>\n",
       "      <th>InvoiceDate</th>\n",
       "      <th>CustomerID</th>\n",
       "      <th>StockCode</th>\n",
       "      <th>Description</th>\n",
       "      <th>Quantity</th>\n",
       "      <th>UnitPrice</th>\n",
       "      <th>Country</th>\n",
       "    </tr>\n",
       "  </thead>\n",
       "  <tbody>\n",
       "    <tr>\n",
       "      <th>0</th>\n",
       "      <td>400000</td>\n",
       "      <td>2024-01-21 03:01:47</td>\n",
       "      <td>10000</td>\n",
       "      <td>40565</td>\n",
       "      <td>Groceries</td>\n",
       "      <td>31</td>\n",
       "      <td>5.56</td>\n",
       "      <td>United Kingdom</td>\n",
       "    </tr>\n",
       "    <tr>\n",
       "      <th>1</th>\n",
       "      <td>400000</td>\n",
       "      <td>2024-01-21 03:01:47</td>\n",
       "      <td>10000</td>\n",
       "      <td>40048</td>\n",
       "      <td>Fashion</td>\n",
       "      <td>14</td>\n",
       "      <td>34.86</td>\n",
       "      <td>United Kingdom</td>\n",
       "    </tr>\n",
       "    <tr>\n",
       "      <th>2</th>\n",
       "      <td>400000</td>\n",
       "      <td>2024-01-21 03:01:47</td>\n",
       "      <td>10000</td>\n",
       "      <td>40149</td>\n",
       "      <td>Electronics</td>\n",
       "      <td>48</td>\n",
       "      <td>149.66</td>\n",
       "      <td>United States</td>\n",
       "    </tr>\n",
       "    <tr>\n",
       "      <th>3</th>\n",
       "      <td>400000</td>\n",
       "      <td>2024-01-21 03:01:47</td>\n",
       "      <td>10000</td>\n",
       "      <td>40514</td>\n",
       "      <td>Sports &amp; Outdoors</td>\n",
       "      <td>7</td>\n",
       "      <td>38.30</td>\n",
       "      <td>United States</td>\n",
       "    </tr>\n",
       "    <tr>\n",
       "      <th>4</th>\n",
       "      <td>400000</td>\n",
       "      <td>2024-01-21 03:01:47</td>\n",
       "      <td>10000</td>\n",
       "      <td>40607</td>\n",
       "      <td>Groceries</td>\n",
       "      <td>4</td>\n",
       "      <td>7.66</td>\n",
       "      <td>United States</td>\n",
       "    </tr>\n",
       "  </tbody>\n",
       "</table>\n",
       "</div>"
      ],
      "text/plain": [
       "   InvoiceNo         InvoiceDate CustomerID  StockCode        Description  \\\n",
       "0     400000 2024-01-21 03:01:47      10000      40565          Groceries   \n",
       "1     400000 2024-01-21 03:01:47      10000      40048            Fashion   \n",
       "2     400000 2024-01-21 03:01:47      10000      40149        Electronics   \n",
       "3     400000 2024-01-21 03:01:47      10000      40514  Sports & Outdoors   \n",
       "4     400000 2024-01-21 03:01:47      10000      40607          Groceries   \n",
       "\n",
       "   Quantity  UnitPrice         Country  \n",
       "0        31       5.56  United Kingdom  \n",
       "1        14      34.86  United Kingdom  \n",
       "2        48     149.66   United States  \n",
       "3         7      38.30   United States  \n",
       "4         4       7.66   United States  "
      ]
     },
     "execution_count": 17,
     "metadata": {},
     "output_type": "execute_result"
    }
   ],
   "source": [
    "df.head()"
   ]
  },
  {
   "cell_type": "code",
   "execution_count": 19,
   "id": "a2e97eb5-b365-41d5-8608-b8433267fab7",
   "metadata": {},
   "outputs": [
    {
     "name": "stdout",
     "output_type": "stream",
     "text": [
      "<class 'pandas.core.frame.DataFrame'>\n",
      "RangeIndex: 385314 entries, 0 to 385313\n",
      "Data columns (total 9 columns):\n",
      " #   Column       Non-Null Count   Dtype         \n",
      "---  ------       --------------   -----         \n",
      " 0   InvoiceNo    385314 non-null  int64         \n",
      " 1   InvoiceDate  385314 non-null  datetime64[ns]\n",
      " 2   CustomerID   385314 non-null  object        \n",
      " 3   StockCode    385314 non-null  int64         \n",
      " 4   Description  385314 non-null  object        \n",
      " 5   Quantity     385314 non-null  int64         \n",
      " 6   UnitPrice    385314 non-null  float64       \n",
      " 7   Country      385314 non-null  object        \n",
      " 8   Revenue      385314 non-null  float64       \n",
      "dtypes: datetime64[ns](1), float64(2), int64(3), object(3)\n",
      "memory usage: 26.5+ MB\n"
     ]
    }
   ],
   "source": [
    "df.info()"
   ]
  },
  {
   "cell_type": "code",
   "execution_count": 14,
   "id": "61435902-48a7-42a5-9207-bd8d4b337483",
   "metadata": {},
   "outputs": [
    {
     "data": {
      "text/plain": [
       "InvoiceNo      0\n",
       "InvoiceDate    0\n",
       "CustomerID     0\n",
       "StockCode      0\n",
       "Description    0\n",
       "Quantity       0\n",
       "UnitPrice      0\n",
       "Country        0\n",
       "dtype: int64"
      ]
     },
     "execution_count": 14,
     "metadata": {},
     "output_type": "execute_result"
    }
   ],
   "source": [
    "df.isnull().sum()"
   ]
  },
  {
   "cell_type": "code",
   "execution_count": 15,
   "id": "a49553e5-c2d8-45b4-9424-d13729ef53c8",
   "metadata": {},
   "outputs": [],
   "source": [
    "df['CustomerID'] = df['CustomerID'].astype(str)"
   ]
  },
  {
   "cell_type": "code",
   "execution_count": 18,
   "id": "020c5deb-48b2-420a-890f-940e402c611b",
   "metadata": {},
   "outputs": [],
   "source": [
    "df['Revenue'] = df['Quantity'] * df['UnitPrice']"
   ]
  },
  {
   "cell_type": "code",
   "execution_count": 20,
   "id": "6180074c-fb2f-4d28-bfe4-1ea9222ff30c",
   "metadata": {},
   "outputs": [],
   "source": [
    "# Total number of unique customers, unique transactions and date range of the entire dataset\n",
    "num_customers = df['CustomerID'].nunique()\n",
    "num_transactions = df['InvoiceNo'].nunique()\n",
    "date_range = (df['InvoiceDate'].min(), df['InvoiceDate'].max())"
   ]
  },
  {
   "cell_type": "code",
   "execution_count": 21,
   "id": "61574b0f-b40a-427d-a091-482896383a24",
   "metadata": {},
   "outputs": [
    {
     "name": "stdout",
     "output_type": "stream",
     "text": [
      "Total number of Unique Customers: 4372\n",
      "Total number of Unique Transactions: 20990\n",
      "Date Range of Dataset: 2023-12-01 00:25:31 to 2024-12-31 23:52:56\n"
     ]
    }
   ],
   "source": [
    "print(f'Total number of Unique Customers: {num_customers}')\n",
    "print(f'Total number of Unique Transactions: {num_transactions}')\n",
    "print(f'Date Range of Dataset: {date_range[0]} to {date_range[1]}')"
   ]
  },
  {
   "cell_type": "code",
   "execution_count": 22,
   "id": "9388df93-d54f-4a6f-a548-a2b6fc525ac8",
   "metadata": {},
   "outputs": [
    {
     "name": "stdout",
     "output_type": "stream",
     "text": [
      "Rows with non-positive Quantity: 0\n",
      "Rows with non-positive UnitPrice: 0\n"
     ]
    }
   ],
   "source": [
    "# Validate Data to check for non-positive records\n",
    "print('Rows with non-positive Quantity:', (df['Quantity'] <= 0).sum())\n",
    "print('Rows with non-positive UnitPrice:', (df['UnitPrice'] <= 0).sum())"
   ]
  },
  {
   "cell_type": "code",
   "execution_count": 23,
   "id": "5338e739-c2c4-4b42-9d27-82a60932f8e6",
   "metadata": {},
   "outputs": [
    {
     "name": "stdout",
     "output_type": "stream",
     "text": [
      "Average order value: 2341.7934992499618\n"
     ]
    }
   ],
   "source": [
    "# Checking average revenue\n",
    "average_revenue = df['Revenue'].mean()\n",
    "print(f'Average order value: {average_revenue}')"
   ]
  },
  {
   "cell_type": "code",
   "execution_count": 27,
   "id": "271fd8d3-5cee-463a-ad54-332fff28eedc",
   "metadata": {},
   "outputs": [
    {
     "name": "stdout",
     "output_type": "stream",
     "text": [
      "Country by number of customers\n",
      "Country\n",
      "United States     4372\n",
      "United Kingdom    4359\n",
      "Name: CustomerID, dtype: int64\n"
     ]
    }
   ],
   "source": [
    "top_countries = df.groupby('Country')['CustomerID'].nunique().sort_values(ascending=False)\n",
    "print('Country by number of customers')\n",
    "print(top_countries)"
   ]
  },
  {
   "cell_type": "code",
   "execution_count": 28,
   "id": "e721185f-63ab-4eba-84e8-f922affb7fff",
   "metadata": {},
   "outputs": [
    {
     "name": "stderr",
     "output_type": "stream",
     "text": [
      "C:\\Users\\Leinad\\AppData\\Roaming\\Python\\Python311\\site-packages\\seaborn\\_oldcore.py:1498: FutureWarning: is_categorical_dtype is deprecated and will be removed in a future version. Use isinstance(dtype, CategoricalDtype) instead\n",
      "  if pd.api.types.is_categorical_dtype(vector):\n",
      "C:\\Users\\Leinad\\AppData\\Roaming\\Python\\Python311\\site-packages\\seaborn\\_oldcore.py:1498: FutureWarning: is_categorical_dtype is deprecated and will be removed in a future version. Use isinstance(dtype, CategoricalDtype) instead\n",
      "  if pd.api.types.is_categorical_dtype(vector):\n",
      "C:\\Users\\Leinad\\AppData\\Roaming\\Python\\Python311\\site-packages\\seaborn\\_oldcore.py:1498: FutureWarning: is_categorical_dtype is deprecated and will be removed in a future version. Use isinstance(dtype, CategoricalDtype) instead\n",
      "  if pd.api.types.is_categorical_dtype(vector):\n"
     ]
    },
    {
     "data": {
      "image/png": "[encoded data removed]",
      "text/plain": [
       "<Figure size 800x500 with 1 Axes>"
      ]
     },
     "metadata": {},
     "output_type": "display_data"
    }
   ],
   "source": [
    "# plotting top country by customer count\n",
    "plt.figure(figsize=(8,5))\n",
    "sns.barplot(x=top_countries.values, y=top_countries.index, palette='viridis')\n",
    "plt.title('Country by Customer Count')\n",
    "plt.xlabel('Number of Customers')\n",
    "plt.ylabel('Country')\n",
    "plt.tight_layout()\n",
    "plt.show()"
   ]
  },
  {
   "cell_type": "code",
   "execution_count": 29,
   "id": "61910619-4dc4-48ae-9811-739742b83080",
   "metadata": {},
   "outputs": [
    {
     "name": "stderr",
     "output_type": "stream",
     "text": [
      "C:\\Users\\Leinad\\AppData\\Roaming\\Python\\Python311\\site-packages\\seaborn\\_oldcore.py:1498: FutureWarning: is_categorical_dtype is deprecated and will be removed in a future version. Use isinstance(dtype, CategoricalDtype) instead\n",
      "  if pd.api.types.is_categorical_dtype(vector):\n",
      "C:\\Users\\Leinad\\AppData\\Roaming\\Python\\Python311\\site-packages\\seaborn\\_oldcore.py:1498: FutureWarning: is_categorical_dtype is deprecated and will be removed in a future version. Use isinstance(dtype, CategoricalDtype) instead\n",
      "  if pd.api.types.is_categorical_dtype(vector):\n",
      "C:\\Users\\Leinad\\AppData\\Roaming\\Python\\Python311\\site-packages\\seaborn\\_oldcore.py:1498: FutureWarning: is_categorical_dtype is deprecated and will be removed in a future version. Use isinstance(dtype, CategoricalDtype) instead\n",
      "  if pd.api.types.is_categorical_dtype(vector):\n"
     ]
    },
    {
     "data": {
      "image/png": "[encoded data removed]",
      "text/plain": [
       "<Figure size 800x500 with 1 Axes>"
      ]
     },
     "metadata": {},
     "output_type": "display_data"
    }
   ],
   "source": [
    "plt.figure(figsize=(8,5))\n",
    "sns.barplot(x=top_countries.values, y=top_countries.index, palette='viridis')\n",
    "plt.xlim(4200, 4400)\n",
    "plt.title('Country by Customer Count')\n",
    "plt.xlabel('Number of Customers')\n",
    "plt.ylabel('Country')\n",
    "plt.tight_layout()\n",
    "plt.show()"
   ]
  },
  {
   "cell_type": "code",
   "execution_count": null,
   "id": "757dc4be-0170-4a54-9b45-7390a665854e",
   "metadata": {},
   "outputs": [],
   "source": []
  }
 ],
 "metadata": {
  "kernelspec": {
   "display_name": "Python 3 (ipykernel)",
   "language": "python",
   "name": "python3"
  },
  "language_info": {
   "codemirror_mode": {
    "name": "ipython",
    "version": 3
   },
   "file_extension": ".py",
   "mimetype": "text/x-python",
   "name": "python",
   "nbconvert_exporter": "python",
   "pygments_lexer": "ipython3",
   "version": "3.11.3"
  },
  "widgets": {
   "application/vnd.jupyter.widget-state+json": {
    "state": {},
    "version_major": 2,
    "version_minor": 0
   }
  }
 },
 "nbformat": 4,
 "nbformat_minor": 5
}
